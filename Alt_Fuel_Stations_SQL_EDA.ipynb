{
    "metadata": {
        "kernelspec": {
            "name": "SQL",
            "display_name": "SQL",
            "language": "sql"
        },
        "language_info": {
            "name": "sql",
            "version": ""
        }
    },
    "nbformat_minor": 2,
    "nbformat": 4,
    "cells": [
        {
            "cell_type": "code",
            "source": [
                "--Exploratory data analysis of alternative fuel stations\n",
                "--Skills used: Aggregate Functions, CTEs, Temp Tables, Subqueries, Converting Data Types, creating Views\n",
                "\n",
                "-- How many public stations are available? What percentage?\n",
                "\n",
                "SELECT Status, \n",
                "    COUNT(Status) as Num_stations, \n",
                "    CAST(COUNT(Status) AS float)/CAST((SELECT COUNT(Status) from dbo.alt_fuel_stations_clean) AS float)*100 as Percent_stations  \n",
                "    FROM dbo.alt_fuel_stations_clean\n",
                "WHERE Access_code = 'public'\n",
                "GROUP BY Status\n",
                "ORDER BY Percent_stations DESC"
            ],
            "metadata": {
                "azdata_cell_guid": "7ea23fe5-fc18-4f70-9bb7-a33ab4ac5a46",
                "language": "sql",
                "tags": []
            },
            "outputs": [
                {
                    "output_type": "display_data",
                    "data": {
                        "text/html": "(3 rows affected)"
                    },
                    "metadata": {}
                },
                {
                    "output_type": "display_data",
                    "data": {
                        "text/html": "Total execution time: 00:00:00.052"
                    },
                    "metadata": {}
                },
                {
                    "output_type": "execute_result",
                    "metadata": {},
                    "execution_count": 1,
                    "data": {
                        "application/vnd.dataresource+json": {
                            "schema": {
                                "fields": [
                                    {
                                        "name": "Status"
                                    },
                                    {
                                        "name": "Num_stations"
                                    },
                                    {
                                        "name": "Percent_stations"
                                    }
                                ]
                            },
                            "data": [
                                {
                                    "0": "Available",
                                    "1": "61604",
                                    "2": "86.53827243738323"
                                },
                                {
                                    "0": "Temporarily Unavailable",
                                    "1": "4216",
                                    "2": "5.922429657100313"
                                },
                                {
                                    "0": "Planned",
                                    "1": "166",
                                    "2": "0.23318864399398767"
                                }
                            ]
                        },
                        "text/html": [
                            "<table>",
                            "<tr><th>Status</th><th>Num_stations</th><th>Percent_stations</th></tr>",
                            "<tr><td>Available</td><td>61604</td><td>86.53827243738323</td></tr>",
                            "<tr><td>Temporarily Unavailable</td><td>4216</td><td>5.922429657100313</td></tr>",
                            "<tr><td>Planned</td><td>166</td><td>0.23318864399398767</td></tr>",
                            "</table>"
                        ]
                    }
                }
            ],
            "execution_count": 1
        },
        {
            "cell_type": "code",
            "source": [
                "--What kind of stations are being planned? Which are being planned the most?\n",
                "SELECT Fuel_type, \n",
                "    COUNT(Fuel_type) as Num_stations,\n",
                "    CAST(COUNT(Fuel_type) AS float)/CAST((SELECT COUNT(Fuel_type) from dbo.alt_fuel_stations_clean) AS float)*100 as Percent_stations  \n",
                "    FROM dbo.alt_fuel_stations_clean\n",
                "GROUP BY Fuel_type\n",
                "ORDER BY Num_stations DESC"
            ],
            "metadata": {
                "azdata_cell_guid": "07f74818-706e-4d59-ba7d-70af114448a4",
                "language": "sql"
            },
            "outputs": [
                {
                    "output_type": "display_data",
                    "data": {
                        "text/html": "(8 rows affected)"
                    },
                    "metadata": {}
                },
                {
                    "output_type": "display_data",
                    "data": {
                        "text/html": "Total execution time: 00:00:00.090"
                    },
                    "metadata": {}
                },
                {
                    "output_type": "execute_result",
                    "metadata": {},
                    "execution_count": 2,
                    "data": {
                        "application/vnd.dataresource+json": {
                            "schema": {
                                "fields": [
                                    {
                                        "name": "Fuel_type"
                                    },
                                    {
                                        "name": "Num_stations"
                                    },
                                    {
                                        "name": "Percent_stations"
                                    }
                                ]
                            },
                            "data": [
                                {
                                    "0": "Electric",
                                    "1": "60371",
                                    "2": "84.80621461783753"
                                },
                                {
                                    "0": "Ethanol (E85)",
                                    "1": "4464",
                                    "2": "6.270807872223862"
                                },
                                {
                                    "0": "Propane (LPG)",
                                    "1": "2859",
                                    "2": "4.016182729992836"
                                },
                                {
                                    "0": "Compressed Natural Gas",
                                    "1": "1451",
                                    "2": "2.0382935086462415"
                                },
                                {
                                    "0": "Biodiesel (B20 and above)",
                                    "1": "1193",
                                    "2": "1.6758677848483572"
                                },
                                {
                                    "0": "Renewable Diesel (R20 and above)",
                                    "1": "576",
                                    "2": "0.8091364996417886"
                                },
                                {
                                    "0": "Hydrogen",
                                    "1": "139",
                                    "2": "0.19526037057327883"
                                },
                                {
                                    "0": "Liquefied Natural Gas",
                                    "1": "134",
                                    "2": "0.18823661623611054"
                                }
                            ]
                        },
                        "text/html": [
                            "<table>",
                            "<tr><th>Fuel_type</th><th>Num_stations</th><th>Percent_stations</th></tr>",
                            "<tr><td>Electric</td><td>60371</td><td>84.80621461783753</td></tr>",
                            "<tr><td>Ethanol (E85)</td><td>4464</td><td>6.270807872223862</td></tr>",
                            "<tr><td>Propane (LPG)</td><td>2859</td><td>4.016182729992836</td></tr>",
                            "<tr><td>Compressed Natural Gas</td><td>1451</td><td>2.0382935086462415</td></tr>",
                            "<tr><td>Biodiesel (B20 and above)</td><td>1193</td><td>1.6758677848483572</td></tr>",
                            "<tr><td>Renewable Diesel (R20 and above)</td><td>576</td><td>0.8091364996417886</td></tr>",
                            "<tr><td>Hydrogen</td><td>139</td><td>0.19526037057327883</td></tr>",
                            "<tr><td>Liquefied Natural Gas</td><td>134</td><td>0.18823661623611054</td></tr>",
                            "</table>"
                        ]
                    }
                }
            ],
            "execution_count": 2
        },
        {
            "cell_type": "code",
            "source": [
                "--Which states have available, public hydrogen fueling stations, and how many?\n",
                "SELECT State, COUNT(State) as Num_Hyd_stations\n",
                "    FROM dbo.alt_fuel_stations_clean\n",
                "WHERE Fuel_type = 'Hydrogen' AND Status = 'Available' AND Access_code = 'public'\n",
                "GROUP BY State\n",
                "ORDER BY Num_Hyd_stations DESC"
            ],
            "metadata": {
                "azdata_cell_guid": "eb206286-2261-4a05-ba53-33a7099530dd",
                "language": "sql"
            },
            "outputs": [
                {
                    "output_type": "display_data",
                    "data": {
                        "text/html": "(2 rows affected)"
                    },
                    "metadata": {}
                },
                {
                    "output_type": "display_data",
                    "data": {
                        "text/html": "Total execution time: 00:00:00.042"
                    },
                    "metadata": {}
                },
                {
                    "output_type": "execute_result",
                    "metadata": {},
                    "execution_count": 6,
                    "data": {
                        "application/vnd.dataresource+json": {
                            "schema": {
                                "fields": [
                                    {
                                        "name": "State"
                                    },
                                    {
                                        "name": "Num_Hyd_stations"
                                    }
                                ]
                            },
                            "data": [
                                {
                                    "0": "CA",
                                    "1": "60"
                                },
                                {
                                    "0": "HI",
                                    "1": "1"
                                }
                            ]
                        },
                        "text/html": [
                            "<table>",
                            "<tr><th>State</th><th>Num_Hyd_stations</th></tr>",
                            "<tr><td>CA</td><td>60</td></tr>",
                            "<tr><td>HI</td><td>1</td></tr>",
                            "</table>"
                        ]
                    }
                }
            ],
            "execution_count": 6
        },
        {
            "cell_type": "code",
            "source": [
                "--Drilling down: Looks like California has the most public, available hydrogen fueling stations by a lot - which three cities in CA have the most?\n",
                "SELECT City, COUNT(City) as Num_Hyd_stations\n",
                "    FROM dbo.alt_fuel_stations_clean\n",
                "WHERE State = 'CA' AND Fuel_type = 'Hydrogen' AND Status = 'Available' AND Access_code = 'public'\n",
                "GROUP BY City\n",
                "ORDER BY Num_Hyd_stations DESC\n",
                "OFFSET 0 ROWS FETCH FIRST 3 ROWS ONLY;"
            ],
            "metadata": {
                "azdata_cell_guid": "a12fe942-6233-465c-adb4-4ef035f42fa0",
                "language": "sql"
            },
            "outputs": [
                {
                    "output_type": "display_data",
                    "data": {
                        "text/html": "(3 rows affected)"
                    },
                    "metadata": {}
                },
                {
                    "output_type": "display_data",
                    "data": {
                        "text/html": "Total execution time: 00:00:00.125"
                    },
                    "metadata": {}
                },
                {
                    "output_type": "execute_result",
                    "metadata": {},
                    "execution_count": 7,
                    "data": {
                        "application/vnd.dataresource+json": {
                            "schema": {
                                "fields": [
                                    {
                                        "name": "City"
                                    },
                                    {
                                        "name": "Num_Hyd_stations"
                                    }
                                ]
                            },
                            "data": [
                                {
                                    "0": "Los Angeles",
                                    "1": "4"
                                },
                                {
                                    "0": "San Francisco",
                                    "1": "3"
                                },
                                {
                                    "0": "San Jose",
                                    "1": "3"
                                }
                            ]
                        },
                        "text/html": [
                            "<table>",
                            "<tr><th>City</th><th>Num_Hyd_stations</th></tr>",
                            "<tr><td>Los Angeles</td><td>4</td></tr>",
                            "<tr><td>San Francisco</td><td>3</td></tr>",
                            "<tr><td>San Jose</td><td>3</td></tr>",
                            "</table>"
                        ]
                    }
                }
            ],
            "execution_count": 7
        },
        {
            "cell_type": "code",
            "source": [
                "--I thought that a city as large as LA would have more than 4 hydrogen fueling stations.\n",
                "--Let's check how many they have that are planned, not available, or private\n",
                "SELECT Status, Access_code, COUNT(*) as Num_Hyd_stations\n",
                "    FROM dbo.alt_fuel_stations_clean\n",
                "WHERE City = 'Los Angeles' and Fuel_type = 'Hydrogen' AND (Status = 'Planned' OR Status = 'Temporarily Unavailable')\n",
                "GROUP BY Status, Access_code\n",
                "ORDER BY Num_Hyd_stations DESC"
            ],
            "metadata": {
                "azdata_cell_guid": "1bf9ce28-9af8-4457-bc89-cb99731d7d7e",
                "language": "sql",
                "tags": []
            },
            "outputs": [
                {
                    "output_type": "display_data",
                    "data": {
                        "text/html": "(2 rows affected)"
                    },
                    "metadata": {}
                },
                {
                    "output_type": "display_data",
                    "data": {
                        "text/html": "Total execution time: 00:00:00.046"
                    },
                    "metadata": {}
                },
                {
                    "output_type": "execute_result",
                    "metadata": {},
                    "execution_count": 11,
                    "data": {
                        "application/vnd.dataresource+json": {
                            "schema": {
                                "fields": [
                                    {
                                        "name": "Status"
                                    },
                                    {
                                        "name": "Access_code"
                                    },
                                    {
                                        "name": "Num_Hyd_stations"
                                    }
                                ]
                            },
                            "data": [
                                {
                                    "0": "Planned",
                                    "1": "public",
                                    "2": "1"
                                },
                                {
                                    "0": "Temporarily Unavailable",
                                    "1": "public",
                                    "2": "1"
                                }
                            ]
                        },
                        "text/html": [
                            "<table>",
                            "<tr><th>Status</th><th>Access_code</th><th>Num_Hyd_stations</th></tr>",
                            "<tr><td>Planned</td><td>public</td><td>1</td></tr>",
                            "<tr><td>Temporarily Unavailable</td><td>public</td><td>1</td></tr>",
                            "</table>"
                        ]
                    }
                }
            ],
            "execution_count": 11
        },
        {
            "cell_type": "code",
            "source": [
                "--There appears to just not be that many hydrogen refueling stations, even in LA. How many electric fuel stations are there in LA?\n",
                "SELECT Status, Access_code, COUNT(*) as Num_Elec_stations\n",
                "    FROM dbo.alt_fuel_stations_clean\n",
                "WHERE City = 'Los Angeles' AND Fuel_type = 'Electric'\n",
                "GROUP BY Status, Access_code\n",
                "ORDER BY Num_Elec_stations DESC"
            ],
            "metadata": {
                "azdata_cell_guid": "1ef772ba-f900-4cdc-b4f7-32aaa2075f7e",
                "language": "sql"
            },
            "outputs": [
                {
                    "output_type": "display_data",
                    "data": {
                        "text/html": "(4 rows affected)"
                    },
                    "metadata": {}
                },
                {
                    "output_type": "display_data",
                    "data": {
                        "text/html": "Total execution time: 00:00:00.049"
                    },
                    "metadata": {}
                },
                {
                    "output_type": "execute_result",
                    "metadata": {},
                    "execution_count": 12,
                    "data": {
                        "application/vnd.dataresource+json": {
                            "schema": {
                                "fields": [
                                    {
                                        "name": "Status"
                                    },
                                    {
                                        "name": "Access_code"
                                    },
                                    {
                                        "name": "Num_Elec_stations"
                                    }
                                ]
                            },
                            "data": [
                                {
                                    "0": "Available",
                                    "1": "public",
                                    "2": "1451"
                                },
                                {
                                    "0": "Temporarily Unavailable",
                                    "1": "public",
                                    "2": "143"
                                },
                                {
                                    "0": "Available",
                                    "1": "private",
                                    "2": "69"
                                },
                                {
                                    "0": "Planned",
                                    "1": "public",
                                    "2": "1"
                                }
                            ]
                        },
                        "text/html": [
                            "<table>",
                            "<tr><th>Status</th><th>Access_code</th><th>Num_Elec_stations</th></tr>",
                            "<tr><td>Available</td><td>public</td><td>1451</td></tr>",
                            "<tr><td>Temporarily Unavailable</td><td>public</td><td>143</td></tr>",
                            "<tr><td>Available</td><td>private</td><td>69</td></tr>",
                            "<tr><td>Planned</td><td>public</td><td>1</td></tr>",
                            "</table>"
                        ]
                    }
                }
            ],
            "execution_count": 12
        },
        {
            "cell_type": "code",
            "source": [
                "--There seem to be a lot of available, public electric fuel stations in LA -- what are the top 10 cities?\n",
                "--Using a common table expression (CTE) to calculate the total number of electric stations per city\n",
                "\n",
                "With Electric_CTE (City, State, Num_Elec_stations) AS (\n",
                "    SELECT City, State, COUNT(*) AS Num_elec_stations FROM dbo.alt_fuel_stations_clean\n",
                "    WHERE Fuel_type = 'Electric' AND Access_code = 'public' AND Status = 'Available'\n",
                "    GROUP BY State, City\n",
                ")\n",
                "\n",
                "SELECT City, State, Num_Elec_stations FROM Electric_CTE\n",
                "    ORDER BY Num_Elec_stations DESC\n",
                "    OFFSET 0 ROWS FETCH FIRST 10 ROWS ONLY;"
            ],
            "metadata": {
                "azdata_cell_guid": "208594a4-c8f6-40ac-a290-519a9ea9676c",
                "language": "sql"
            },
            "outputs": [
                {
                    "output_type": "display_data",
                    "data": {
                        "text/html": "(10 rows affected)"
                    },
                    "metadata": {}
                },
                {
                    "output_type": "display_data",
                    "data": {
                        "text/html": "Total execution time: 00:00:00.057"
                    },
                    "metadata": {}
                },
                {
                    "output_type": "execute_result",
                    "metadata": {},
                    "execution_count": 13,
                    "data": {
                        "application/vnd.dataresource+json": {
                            "schema": {
                                "fields": [
                                    {
                                        "name": "City"
                                    },
                                    {
                                        "name": "State"
                                    },
                                    {
                                        "name": "Num_Elec_stations"
                                    }
                                ]
                            },
                            "data": [
                                {
                                    "0": "Los Angeles",
                                    "1": "CA",
                                    "2": "1450"
                                },
                                {
                                    "0": "San Diego",
                                    "1": "CA",
                                    "2": "651"
                                },
                                {
                                    "0": "Irvine",
                                    "1": "CA",
                                    "2": "619"
                                },
                                {
                                    "0": "Atlanta",
                                    "1": "GA",
                                    "2": "529"
                                },
                                {
                                    "0": "San Jose",
                                    "1": "CA",
                                    "2": "514"
                                },
                                {
                                    "0": "Austin",
                                    "1": "TX",
                                    "2": "494"
                                },
                                {
                                    "0": "Kansas City",
                                    "1": "MO",
                                    "2": "466"
                                },
                                {
                                    "0": "Boston",
                                    "1": "MA",
                                    "2": "406"
                                },
                                {
                                    "0": "San Francisco",
                                    "1": "CA",
                                    "2": "403"
                                },
                                {
                                    "0": "Seattle",
                                    "1": "WA",
                                    "2": "380"
                                }
                            ]
                        },
                        "text/html": [
                            "<table>",
                            "<tr><th>City</th><th>State</th><th>Num_Elec_stations</th></tr>",
                            "<tr><td>Los Angeles</td><td>CA</td><td>1450</td></tr>",
                            "<tr><td>San Diego</td><td>CA</td><td>651</td></tr>",
                            "<tr><td>Irvine</td><td>CA</td><td>619</td></tr>",
                            "<tr><td>Atlanta</td><td>GA</td><td>529</td></tr>",
                            "<tr><td>San Jose</td><td>CA</td><td>514</td></tr>",
                            "<tr><td>Austin</td><td>TX</td><td>494</td></tr>",
                            "<tr><td>Kansas City</td><td>MO</td><td>466</td></tr>",
                            "<tr><td>Boston</td><td>MA</td><td>406</td></tr>",
                            "<tr><td>San Francisco</td><td>CA</td><td>403</td></tr>",
                            "<tr><td>Seattle</td><td>WA</td><td>380</td></tr>",
                            "</table>"
                        ]
                    }
                }
            ],
            "execution_count": 13
        },
        {
            "cell_type": "code",
            "source": [
                "--Looks like most of the cities with the highest numbers of available, public electric fueling stations are in California\n",
                "--What is the average per state?\n",
                "--Using a temporary table:\n",
                "DROP Table if exists #Elec_stations_by_State\n",
                "Create Table #Elec_stations_by_State\n",
                "(\n",
                "    State nvarchar(255),\n",
                "    Num_Elec_stations int,\n",
                ")\n",
                "\n",
                "Insert into #Elec_stations_by_State\n",
                "SELECT State, COUNT(*) as Num_Elec_stations FROM dbo.alt_fuel_stations_clean\n",
                "    WHERE Fuel_type = 'Electric' AND Access_code = 'public' AND Status = 'Available'\n",
                "    GROUP BY State\n",
                "\n",
                "Select * from #Elec_stations_by_State\n",
                "    ORDER BY Num_Elec_stations DESC\n",
                "    OFFSET 0 ROWS FETCH FIRST 10 ROWS ONLY;"
            ],
            "metadata": {
                "azdata_cell_guid": "418c46e8-8daa-4c53-b729-4f5fc7263cc9",
                "language": "sql"
            },
            "outputs": [
                {
                    "output_type": "display_data",
                    "data": {
                        "text/html": "(71 rows affected)"
                    },
                    "metadata": {}
                },
                {
                    "output_type": "display_data",
                    "data": {
                        "text/html": "(10 rows affected)"
                    },
                    "metadata": {}
                },
                {
                    "output_type": "display_data",
                    "data": {
                        "text/html": "Total execution time: 00:00:00.069"
                    },
                    "metadata": {}
                },
                {
                    "output_type": "execute_result",
                    "metadata": {},
                    "execution_count": 14,
                    "data": {
                        "application/vnd.dataresource+json": {
                            "schema": {
                                "fields": [
                                    {
                                        "name": "State"
                                    },
                                    {
                                        "name": "Num_Elec_stations"
                                    }
                                ]
                            },
                            "data": [
                                {
                                    "0": "CA",
                                    "1": "14175"
                                },
                                {
                                    "0": "NY",
                                    "1": "3323"
                                },
                                {
                                    "0": "FL",
                                    "1": "2795"
                                },
                                {
                                    "0": "TX",
                                    "1": "2519"
                                },
                                {
                                    "0": "MA",
                                    "1": "2430"
                                },
                                {
                                    "0": "CO",
                                    "1": "1740"
                                },
                                {
                                    "0": "WA",
                                    "1": "1663"
                                },
                                {
                                    "0": "GA",
                                    "1": "1543"
                                },
                                {
                                    "0": "MD",
                                    "1": "1334"
                                },
                                {
                                    "0": "PA",
                                    "1": "1326"
                                }
                            ]
                        },
                        "text/html": [
                            "<table>",
                            "<tr><th>State</th><th>Num_Elec_stations</th></tr>",
                            "<tr><td>CA</td><td>14175</td></tr>",
                            "<tr><td>NY</td><td>3323</td></tr>",
                            "<tr><td>FL</td><td>2795</td></tr>",
                            "<tr><td>TX</td><td>2519</td></tr>",
                            "<tr><td>MA</td><td>2430</td></tr>",
                            "<tr><td>CO</td><td>1740</td></tr>",
                            "<tr><td>WA</td><td>1663</td></tr>",
                            "<tr><td>GA</td><td>1543</td></tr>",
                            "<tr><td>MD</td><td>1334</td></tr>",
                            "<tr><td>PA</td><td>1326</td></tr>",
                            "</table>"
                        ]
                    }
                }
            ],
            "execution_count": 14
        },
        {
            "cell_type": "code",
            "source": [
                "--Calculating average number of available, public electric stations per state:\n",
                "SELECT AVG(Num_Elec_stations) as Average_Elec_Stations_Per_State FROM #Elec_stations_by_State"
            ],
            "metadata": {
                "azdata_cell_guid": "83b8a703-da99-46b4-a6b7-56c722245a30",
                "language": "sql"
            },
            "outputs": [
                {
                    "output_type": "display_data",
                    "data": {
                        "text/html": "(1 row affected)"
                    },
                    "metadata": {}
                },
                {
                    "output_type": "display_data",
                    "data": {
                        "text/html": "Total execution time: 00:00:00.008"
                    },
                    "metadata": {}
                },
                {
                    "output_type": "execute_result",
                    "metadata": {},
                    "execution_count": 16,
                    "data": {
                        "application/vnd.dataresource+json": {
                            "schema": {
                                "fields": [
                                    {
                                        "name": "Average_Elec_Stations_Per_State"
                                    }
                                ]
                            },
                            "data": [
                                {
                                    "0": "739"
                                }
                            ]
                        },
                        "text/html": [
                            "<table>",
                            "<tr><th>Average_Elec_Stations_Per_State</th></tr>",
                            "<tr><td>739</td></tr>",
                            "</table>"
                        ]
                    }
                }
            ],
            "execution_count": 16
        },
        {
            "cell_type": "code",
            "source": [
                "--Creating a view to later visualize the locations of these stations using Tableau \n",
                "--containing only the valid Latitude and Longitude values\n",
                "CREATE VIEW alt_fuel_station_locations AS\n",
                "SELECT Fuel_type, Facility_type, Status, Access_code, City, State, ZIP, Country, Latitude, Longitude\n",
                "    FROM dbo.alt_fuel_stations_clean\n",
                "    WHERE Latitude != 1 AND Latitude != 0 AND Latitude !=-1 AND\n",
                "    Longitude != 1 AND Longitude != 0 AND Longitude !=-1"
            ],
            "metadata": {
                "language": "sql",
                "azdata_cell_guid": "f5ae594f-a072-49ed-8a2b-e555249e3d30"
            },
            "outputs": [
                {
                    "output_type": "display_data",
                    "data": {
                        "text/html": "Commands completed successfully."
                    },
                    "metadata": {}
                },
                {
                    "output_type": "display_data",
                    "data": {
                        "text/html": "Total execution time: 00:00:00.039"
                    },
                    "metadata": {}
                }
            ],
            "execution_count": 21
        }
    ]
}