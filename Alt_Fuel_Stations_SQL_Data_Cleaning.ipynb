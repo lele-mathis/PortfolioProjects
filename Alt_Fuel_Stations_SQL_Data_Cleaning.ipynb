{
    "metadata": {
        "kernelspec": {
            "name": "SQL",
            "display_name": "SQL",
            "language": "sql"
        },
        "language_info": {
            "name": "sql",
            "version": ""
        }
    },
    "nbformat_minor": 2,
    "nbformat": 4,
    "cells": [
        {
            "cell_type": "code",
            "source": [
                "--Cleaning data on alternative fuel stations using queries in SQL Server \n",
                "--Data from https://afdc.energy.gov/data_download\n",
                "\n",
                "--Initial query to take a look at the data\n",
                "SELECT * FROM dbo.alt_fuel_stations\n",
                "ORDER BY ID\n",
                "OFFSET 0 ROWS FETCH FIRST 10 ROWS ONLY;"
            ],
            "metadata": {
                "azdata_cell_guid": "82203d7d-ae0c-4e81-b4b0-b398933694b3",
                "language": "sql"
            },
            "outputs": [
                {
                    "output_type": "display_data",
                    "data": {
                        "text/html": "(10 rows affected)"
                    },
                    "metadata": {}
                },
                {
                    "output_type": "display_data",
                    "data": {
                        "text/html": "Total execution time: 00:00:00.116"
                    },
                    "metadata": {}
                },
                {
                    "output_type": "execute_result",
                    "metadata": {},
                    "execution_count": 7,
                    "data": {
                        "application/vnd.dataresource+json": {
                            "schema": {
                                "fields": [
                                    {
                                        "name": "Fuel_Type_Code"
                                    },
                                    {
                                        "name": "Station_Name"
                                    },
                                    {
                                        "name": "Street_Address"
                                    },
                                    {
                                        "name": "Intersection_Directions"
                                    },
                                    {
                                        "name": "City"
                                    },
                                    {
                                        "name": "State"
                                    },
                                    {
                                        "name": "ZIP"
                                    },
                                    {
                                        "name": "Plus4"
                                    },
                                    {
                                        "name": "Station_Phone"
                                    },
                                    {
                                        "name": "Status_Code"
                                    },
                                    {
                                        "name": "Expected_Date"
                                    },
                                    {
                                        "name": "Groups_With_Access_Code"
                                    },
                                    {
                                        "name": "Access_Days_Time"
                                    },
                                    {
                                        "name": "Cards_Accepted"
                                    },
                                    {
                                        "name": "BD_Blends"
                                    },
                                    {
                                        "name": "NG_Fill_Type_Code"
                                    },
                                    {
                                        "name": "NG_PSI"
                                    },
                                    {
                                        "name": "EV_Level1_EVSE_Num"
                                    },
                                    {
                                        "name": "EV_Level2_EVSE_Num"
                                    },
                                    {
                                        "name": "EV_DC_Fast_Count"
                                    },
                                    {
                                        "name": "EV_Other_Info"
                                    },
                                    {
                                        "name": "EV_Network"
                                    },
                                    {
                                        "name": "EV_Network_Web"
                                    },
                                    {
                                        "name": "Geocode_Status"
                                    },
                                    {
                                        "name": "Latitude"
                                    },
                                    {
                                        "name": "Longitude"
                                    },
                                    {
                                        "name": "Date_Last_Confirmed"
                                    },
                                    {
                                        "name": "ID"
                                    },
                                    {
                                        "name": "Updated_At"
                                    },
                                    {
                                        "name": "Owner_Type_Code"
                                    },
                                    {
                                        "name": "Federal_Agency_ID"
                                    },
                                    {
                                        "name": "Federal_Agency_Name"
                                    },
                                    {
                                        "name": "Open_Date"
                                    },
                                    {
                                        "name": "Hydrogen_Status_Link"
                                    },
                                    {
                                        "name": "NG_Vehicle_Class"
                                    },
                                    {
                                        "name": "LPG_Primary"
                                    },
                                    {
                                        "name": "E85_Blender_Pump"
                                    },
                                    {
                                        "name": "EV_Connector_Types"
                                    },
                                    {
                                        "name": "Country"
                                    },
                                    {
                                        "name": "Intersection_Directions_French"
                                    },
                                    {
                                        "name": "Access_Days_Time_French"
                                    },
                                    {
                                        "name": "BD_Blends_French"
                                    },
                                    {
                                        "name": "Groups_With_Access_Code_French"
                                    },
                                    {
                                        "name": "Hydrogen_Is_Retail"
                                    },
                                    {
                                        "name": "Access_Code"
                                    },
                                    {
                                        "name": "Access_Detail_Code"
                                    },
                                    {
                                        "name": "Federal_Agency_Code"
                                    },
                                    {
                                        "name": "Facility_Type"
                                    },
                                    {
                                        "name": "CNG_Dispenser_Num"
                                    },
                                    {
                                        "name": "CNG_On_Site_Renewable_Source"
                                    },
                                    {
                                        "name": "CNG_Total_Compression_Capacity"
                                    },
                                    {
                                        "name": "CNG_Storage_Capacity"
                                    },
                                    {
                                        "name": "LNG_On_Site_Renewable_Source"
                                    },
                                    {
                                        "name": "E85_Other_Ethanol_Blends"
                                    },
                                    {
                                        "name": "EV_Pricing"
                                    },
                                    {
                                        "name": "EV_Pricing_French"
                                    },
                                    {
                                        "name": "LPG_Nozzle_Types"
                                    },
                                    {
                                        "name": "Hydrogen_Pressures"
                                    },
                                    {
                                        "name": "Hydrogen_Standards"
                                    },
                                    {
                                        "name": "CNG_Fill_Type_Code"
                                    },
                                    {
                                        "name": "CNG_PSI"
                                    },
                                    {
                                        "name": "CNG_Vehicle_Class"
                                    },
                                    {
                                        "name": "LNG_Vehicle_Class"
                                    },
                                    {
                                        "name": "EV_On_Site_Renewable_Source"
                                    },
                                    {
                                        "name": "Restricted_Access"
                                    },
                                    {
                                        "name": "RD_Blends"
                                    },
                                    {
                                        "name": "RD_Blends_French"
                                    },
                                    {
                                        "name": "RD_Blended_with_Biodiesel"
                                    },
                                    {
                                        "name": "RD_Maximum_Biodiesel_Level"
                                    },
                                    {
                                        "name": "NPS_Unit_Name"
                                    },
                                    {
                                        "name": "CNG_Station_Sells_Renewable_Natural_Gas"
                                    },
                                    {
                                        "name": "LNG_Station_Sells_Renewable_Natural_Gas"
                                    }
                                ]
                            },
                            "data": [
                                {
                                    "0": "CNG",
                                    "1": "Spire - Montgomery Operations Center",
                                    "2": "2951 Chestnut St",
                                    "3": "NULL",
                                    "4": "Montgomery",
                                    "5": "AL",
                                    "6": "36107",
                                    "7": "NULL",
                                    "8": "NULL",
                                    "9": "E",
                                    "10": "NULL",
                                    "11": "Private",
                                    "12": "NULL",
                                    "13": "NULL",
                                    "14": "NULL",
                                    "15": "B",
                                    "16": "3600",
                                    "17": "NULL",
                                    "18": "NULL",
                                    "19": "NULL",
                                    "20": "NULL",
                                    "21": "NULL",
                                    "22": "NULL",
                                    "23": "200-9",
                                    "24": "32.367916",
                                    "25": "-86.267021",
                                    "26": "2023-04-06",
                                    "27": "17",
                                    "28": "2023-04-06 17:17:01 UTC",
                                    "29": "T",
                                    "30": "NULL",
                                    "31": "NULL",
                                    "32": "2010-12-01",
                                    "33": "NULL",
                                    "34": "MD",
                                    "35": "NULL",
                                    "36": "NULL",
                                    "37": "NULL",
                                    "38": "US",
                                    "39": "NULL",
                                    "40": "NULL",
                                    "41": "NULL",
                                    "42": "Privé",
                                    "43": "NULL",
                                    "44": "private",
                                    "45": "NULL",
                                    "46": "NULL",
                                    "47": "STANDALONE_STATION",
                                    "48": "NULL",
                                    "49": "NULL",
                                    "50": "NULL",
                                    "51": "NULL",
                                    "52": "NULL",
                                    "53": "NULL",
                                    "54": "NULL",
                                    "55": "NULL",
                                    "56": "NULL",
                                    "57": "NULL",
                                    "58": "NULL",
                                    "59": "B",
                                    "60": "3600",
                                    "61": "MD",
                                    "62": "NULL",
                                    "63": "NULL",
                                    "64": "NULL",
                                    "65": "NULL",
                                    "66": "NULL",
                                    "67": "NULL",
                                    "68": "NULL",
                                    "69": "NULL",
                                    "70": "false",
                                    "71": "NULL"
                                },
                                {
                                    "0": "CNG",
                                    "1": "Metropolitan Atlanta Rapid Transit Authority",
                                    "2": "2424 Piedmont Rd NE",
                                    "3": "NULL",
                                    "4": "Atlanta",
                                    "5": "GA",
                                    "6": "30324",
                                    "7": "NULL",
                                    "8": "NULL",
                                    "9": "E",
                                    "10": "NULL",
                                    "11": "Private - Government only",
                                    "12": "NULL",
                                    "13": "NULL",
                                    "14": "NULL",
                                    "15": "Q",
                                    "16": "3000",
                                    "17": "NULL",
                                    "18": "NULL",
                                    "19": "NULL",
                                    "20": "NULL",
                                    "21": "NULL",
                                    "22": "NULL",
                                    "23": "200-8",
                                    "24": "33.821911",
                                    "25": "-84.367461",
                                    "26": "2023-01-10",
                                    "27": "45",
                                    "28": "2023-02-14 15:54:11 UTC",
                                    "29": "LG",
                                    "30": "NULL",
                                    "31": "NULL",
                                    "32": "1996-12-15",
                                    "33": "NULL",
                                    "34": "LD",
                                    "35": "NULL",
                                    "36": "NULL",
                                    "37": "NULL",
                                    "38": "US",
                                    "39": "NULL",
                                    "40": "NULL",
                                    "41": "NULL",
                                    "42": "Privé - Réservé au gouvernement",
                                    "43": "NULL",
                                    "44": "private",
                                    "45": "GOVERNMENT",
                                    "46": "NULL",
                                    "47": "FLEET_GARAGE",
                                    "48": "NULL",
                                    "49": "NULL",
                                    "50": "30",
                                    "51": "NULL",
                                    "52": "NULL",
                                    "53": "NULL",
                                    "54": "NULL",
                                    "55": "NULL",
                                    "56": "NULL",
                                    "57": "NULL",
                                    "58": "NULL",
                                    "59": "Q",
                                    "60": "3000",
                                    "61": "LD",
                                    "62": "NULL",
                                    "63": "NULL",
                                    "64": "NULL",
                                    "65": "NULL",
                                    "66": "NULL",
                                    "67": "NULL",
                                    "68": "NULL",
                                    "69": "NULL",
                                    "70": "NULL",
                                    "71": "NULL"
                                },
                                {
                                    "0": "CNG",
                                    "1": "United Parcel Service",
                                    "2": "270 Marvin Miller Dr",
                                    "3": "NULL",
                                    "4": "Atlanta",
                                    "5": "GA",
                                    "6": "30336",
                                    "7": "NULL",
                                    "8": "NULL",
                                    "9": "E",
                                    "10": "NULL",
                                    "11": "Private",
                                    "12": "NULL",
                                    "13": "NULL",
                                    "14": "NULL",
                                    "15": "B",
                                    "16": "3600",
                                    "17": "NULL",
                                    "18": "NULL",
                                    "19": "NULL",
                                    "20": "NULL",
                                    "21": "NULL",
                                    "22": "NULL",
                                    "23": "200-9",
                                    "24": "33.760256",
                                    "25": "-84.543822",
                                    "26": "2022-06-14",
                                    "27": "64",
                                    "28": "2023-02-14 15:54:11 UTC",
                                    "29": "P",
                                    "30": "NULL",
                                    "31": "NULL",
                                    "32": "1997-01-01",
                                    "33": "NULL",
                                    "34": "HD",
                                    "35": "NULL",
                                    "36": "NULL",
                                    "37": "NULL",
                                    "38": "US",
                                    "39": "NULL",
                                    "40": "NULL",
                                    "41": "NULL",
                                    "42": "Privé",
                                    "43": "NULL",
                                    "44": "private",
                                    "45": "NULL",
                                    "46": "NULL",
                                    "47": "STANDALONE_STATION",
                                    "48": "NULL",
                                    "49": "NULL",
                                    "50": "NULL",
                                    "51": "NULL",
                                    "52": "NULL",
                                    "53": "NULL",
                                    "54": "NULL",
                                    "55": "NULL",
                                    "56": "NULL",
                                    "57": "NULL",
                                    "58": "NULL",
                                    "59": "B",
                                    "60": "3600",
                                    "61": "HD",
                                    "62": "NULL",
                                    "63": "NULL",
                                    "64": "NULL",
                                    "65": "NULL",
                                    "66": "NULL",
                                    "67": "NULL",
                                    "68": "NULL",
                                    "69": "NULL",
                                    "70": "NULL",
                                    "71": "NULL"
                                },
                                {
                                    "0": "CNG",
                                    "1": "Arkansas Oklahoma Gas Corp",
                                    "2": "2100 S Waldron Rd",
                                    "3": "NULL",
                                    "4": "Fort Smith",
                                    "5": "AR",
                                    "6": "72903",
                                    "7": "NULL",
                                    "8": "479-783-3181",
                                    "9": "E",
                                    "10": "NULL",
                                    "11": "Public - Credit card at all times",
                                    "12": "24 hours daily",
                                    "13": "FuelMan M V Wright_Exp",
                                    "14": "NULL",
                                    "15": "Q",
                                    "16": "3600",
                                    "17": "NULL",
                                    "18": "NULL",
                                    "19": "NULL",
                                    "20": "NULL",
                                    "21": "NULL",
                                    "22": "NULL",
                                    "23": "200-9",
                                    "24": "35.362213",
                                    "25": "-94.375338",
                                    "26": "2023-02-13",
                                    "27": "73",
                                    "28": "2023-02-14 15:54:11 UTC",
                                    "29": "T",
                                    "30": "NULL",
                                    "31": "NULL",
                                    "32": "1997-01-01",
                                    "33": "NULL",
                                    "34": "MD",
                                    "35": "NULL",
                                    "36": "NULL",
                                    "37": "NULL",
                                    "38": "US",
                                    "39": "NULL",
                                    "40": "NULL",
                                    "41": "NULL",
                                    "42": "Public - Carte de crédit en tout temps",
                                    "43": "NULL",
                                    "44": "public",
                                    "45": "CREDIT_CARD_ALWAYS",
                                    "46": "NULL",
                                    "47": "UTILITY",
                                    "48": "1",
                                    "49": "NULL",
                                    "50": "250",
                                    "51": "57855",
                                    "52": "NULL",
                                    "53": "NULL",
                                    "54": "NULL",
                                    "55": "NULL",
                                    "56": "NULL",
                                    "57": "NULL",
                                    "58": "NULL",
                                    "59": "Q",
                                    "60": "3600",
                                    "61": "MD",
                                    "62": "NULL",
                                    "63": "NULL",
                                    "64": "false",
                                    "65": "NULL",
                                    "66": "NULL",
                                    "67": "NULL",
                                    "68": "NULL",
                                    "69": "NULL",
                                    "70": "false",
                                    "71": "NULL"
                                },
                                {
                                    "0": "CNG",
                                    "1": "Clean Energy - Logan International Airport",
                                    "2": "1000 Cottage St Ext",
                                    "3": "From Route 1, take the first exit after Callahan Tunnel. Located near the Massachusetts State Police Troop F building on Service Rd.",
                                    "4": "East Boston",
                                    "5": "MA",
                                    "6": "02128",
                                    "7": "NULL",
                                    "8": "866-809-4869",
                                    "9": "E",
                                    "10": "NULL",
                                    "11": "Public - Credit card at all times",
                                    "12": "24 hours daily; call 866-809-4869 for Clean Energy card",
                                    "13": "A CleanEnergy Comdata D FuelMan M V Voyager Wright_Exp",
                                    "14": "NULL",
                                    "15": "Q",
                                    "16": "3000 3600",
                                    "17": "NULL",
                                    "18": "NULL",
                                    "19": "NULL",
                                    "20": "NULL",
                                    "21": "NULL",
                                    "22": "NULL",
                                    "23": "GPS",
                                    "24": "42.37470554648246",
                                    "25": "-71.02654860574343",
                                    "26": "2022-12-13",
                                    "27": "81",
                                    "28": "2023-02-14 15:54:11 UTC",
                                    "29": "SG",
                                    "30": "NULL",
                                    "31": "NULL",
                                    "32": "1996-11-15",
                                    "33": "NULL",
                                    "34": "MD",
                                    "35": "NULL",
                                    "36": "NULL",
                                    "37": "NULL",
                                    "38": "US",
                                    "39": "NULL",
                                    "40": "NULL",
                                    "41": "NULL",
                                    "42": "Public - Carte de crédit en tout temps",
                                    "43": "NULL",
                                    "44": "public",
                                    "45": "CREDIT_CARD_ALWAYS",
                                    "46": "NULL",
                                    "47": "AIRPORT",
                                    "48": "4",
                                    "49": "NONE",
                                    "50": "850",
                                    "51": "NULL",
                                    "52": "NULL",
                                    "53": "NULL",
                                    "54": "NULL",
                                    "55": "NULL",
                                    "56": "NULL",
                                    "57": "NULL",
                                    "58": "NULL",
                                    "59": "Q",
                                    "60": "3000 3600",
                                    "61": "MD",
                                    "62": "NULL",
                                    "63": "NULL",
                                    "64": "false",
                                    "65": "NULL",
                                    "66": "NULL",
                                    "67": "NULL",
                                    "68": "NULL",
                                    "69": "NULL",
                                    "70": "true",
                                    "71": "NULL"
                                },
                                {
                                    "0": "CNG",
                                    "1": "Clean Energy - Everett - National Grid",
                                    "2": "16 Rover St",
                                    "3": "Rt 16, exit to Rt 99, to Dexter St to Rover. Or Rt 99 to Robin St, to Rover St",
                                    "4": "Everett",
                                    "5": "MA",
                                    "6": "02149",
                                    "7": "NULL",
                                    "8": "866-809-4869",
                                    "9": "E",
                                    "10": "NULL",
                                    "11": "Public - Credit card at all times",
                                    "12": "24 hours daily; call 866-809-4869 for Clean Energy card",
                                    "13": "CleanEnergy D FleetOne FuelMan M V Voyager Wright_Exp",
                                    "14": "NULL",
                                    "15": "Q",
                                    "16": "3000 3600",
                                    "17": "NULL",
                                    "18": "NULL",
                                    "19": "NULL",
                                    "20": "NULL",
                                    "21": "NULL",
                                    "22": "NULL",
                                    "23": "200-8",
                                    "24": "42.393167",
                                    "25": "-71.064352",
                                    "26": "2022-12-13",
                                    "27": "84",
                                    "28": "2023-02-14 15:54:11 UTC",
                                    "29": "T",
                                    "30": "NULL",
                                    "31": "NULL",
                                    "32": "1996-11-15",
                                    "33": "NULL",
                                    "34": "HD",
                                    "35": "NULL",
                                    "36": "NULL",
                                    "37": "NULL",
                                    "38": "US",
                                    "39": "NULL",
                                    "40": "NULL",
                                    "41": "NULL",
                                    "42": "Public - Carte de crédit en tout temps",
                                    "43": "NULL",
                                    "44": "public",
                                    "45": "CREDIT_CARD_ALWAYS",
                                    "46": "NULL",
                                    "47": "STANDALONE_STATION",
                                    "48": "1",
                                    "49": "NULL",
                                    "50": "425",
                                    "51": "NULL",
                                    "52": "NULL",
                                    "53": "NULL",
                                    "54": "NULL",
                                    "55": "NULL",
                                    "56": "NULL",
                                    "57": "NULL",
                                    "58": "NULL",
                                    "59": "Q",
                                    "60": "3000 3600",
                                    "61": "HD",
                                    "62": "NULL",
                                    "63": "NULL",
                                    "64": "false",
                                    "65": "NULL",
                                    "66": "NULL",
                                    "67": "NULL",
                                    "68": "NULL",
                                    "69": "NULL",
                                    "70": "false",
                                    "71": "NULL"
                                },
                                {
                                    "0": "CNG",
                                    "1": "Clean Energy - Greenpoint - National Grid",
                                    "2": "287 Maspeth Ave",
                                    "3": "I-278/Brooklyn Queens Expy, exit onto Vandervoort Ave S, left onto Maspeth Ave, and the station is on the left",
                                    "4": "Brooklyn",
                                    "5": "NY",
                                    "6": "11211",
                                    "7": "NULL",
                                    "8": "866-809-4869",
                                    "9": "E",
                                    "10": "NULL",
                                    "11": "Public - Credit card at all times",
                                    "12": "24 hours daily; call 866-809-4869 for Clean Energy card",
                                    "13": "CleanEnergy D FuelMan M V Voyager Wright_Exp",
                                    "14": "NULL",
                                    "15": "Q",
                                    "16": "3000 3600",
                                    "17": "NULL",
                                    "18": "NULL",
                                    "19": "NULL",
                                    "20": "NULL",
                                    "21": "NULL",
                                    "22": "NULL",
                                    "23": "200-8",
                                    "24": "40.718037",
                                    "25": "-73.932309",
                                    "26": "2022-12-13",
                                    "27": "108",
                                    "28": "2023-02-14 15:54:11 UTC",
                                    "29": "T",
                                    "30": "NULL",
                                    "31": "NULL",
                                    "32": "2016-07-15",
                                    "33": "NULL",
                                    "34": "HD",
                                    "35": "NULL",
                                    "36": "NULL",
                                    "37": "NULL",
                                    "38": "US",
                                    "39": "NULL",
                                    "40": "NULL",
                                    "41": "NULL",
                                    "42": "Public - Carte de crédit en tout temps",
                                    "43": "NULL",
                                    "44": "public",
                                    "45": "CREDIT_CARD_ALWAYS",
                                    "46": "NULL",
                                    "47": "UTILITY",
                                    "48": "1",
                                    "49": "NULL",
                                    "50": "1200",
                                    "51": "NULL",
                                    "52": "NULL",
                                    "53": "NULL",
                                    "54": "NULL",
                                    "55": "NULL",
                                    "56": "NULL",
                                    "57": "NULL",
                                    "58": "NULL",
                                    "59": "Q",
                                    "60": "3000 3600",
                                    "61": "HD",
                                    "62": "NULL",
                                    "63": "NULL",
                                    "64": "false",
                                    "65": "NULL",
                                    "66": "NULL",
                                    "67": "NULL",
                                    "68": "NULL",
                                    "69": "NULL",
                                    "70": "false",
                                    "71": "NULL"
                                },
                                {
                                    "0": "CNG",
                                    "1": "Canarsie - National Grid",
                                    "2": "8424 Ditmas Ave",
                                    "3": "From Shore Pkwy, take Rockaway Pkwy N, left onto Ditmas Ave, and station is on the left",
                                    "4": "Brooklyn",
                                    "5": "NY",
                                    "6": "11236",
                                    "7": "NULL",
                                    "8": "866-809-4869",
                                    "9": "E",
                                    "10": "NULL",
                                    "11": "Public - Credit card at all times",
                                    "12": "24 hours daily; call 866-809-4869 for Clean Energy card; Also accepts OGS",
                                    "13": "CleanEnergy D FleetOne FuelMan M Proprietor V Voyager Wright_Exp",
                                    "14": "NULL",
                                    "15": "B",
                                    "16": "3000 3600",
                                    "17": "NULL",
                                    "18": "NULL",
                                    "19": "NULL",
                                    "20": "NULL",
                                    "21": "NULL",
                                    "22": "NULL",
                                    "23": "200-8",
                                    "24": "40.64554",
                                    "25": "-73.918344",
                                    "26": "2022-12-13",
                                    "27": "112",
                                    "28": "2023-02-14 15:54:11 UTC",
                                    "29": "T",
                                    "30": "NULL",
                                    "31": "NULL",
                                    "32": "1988-01-15",
                                    "33": "NULL",
                                    "34": "MD",
                                    "35": "NULL",
                                    "36": "NULL",
                                    "37": "NULL",
                                    "38": "US",
                                    "39": "NULL",
                                    "40": "NULL",
                                    "41": "NULL",
                                    "42": "Public - Carte de crédit en tout temps",
                                    "43": "NULL",
                                    "44": "public",
                                    "45": "CREDIT_CARD_ALWAYS",
                                    "46": "NULL",
                                    "47": "UTILITY",
                                    "48": "1",
                                    "49": "NULL",
                                    "50": "525",
                                    "51": "NULL",
                                    "52": "NULL",
                                    "53": "NULL",
                                    "54": "NULL",
                                    "55": "NULL",
                                    "56": "NULL",
                                    "57": "NULL",
                                    "58": "NULL",
                                    "59": "B",
                                    "60": "3000 3600",
                                    "61": "MD",
                                    "62": "NULL",
                                    "63": "NULL",
                                    "64": "false",
                                    "65": "NULL",
                                    "66": "NULL",
                                    "67": "NULL",
                                    "68": "NULL",
                                    "69": "NULL",
                                    "70": "false",
                                    "71": "NULL"
                                },
                                {
                                    "0": "CNG",
                                    "1": "Con Edison - W 29th St Service Center",
                                    "2": "281 11th Ave",
                                    "3": "In Manhattan, W 29th Street and 12th Avenue.",
                                    "4": "New York",
                                    "5": "NY",
                                    "6": "10001",
                                    "7": "NULL",
                                    "8": "212-643-3054",
                                    "9": "E",
                                    "10": "NULL",
                                    "11": "Public - Card key at all times",
                                    "12": "24 hours daily; call 718-204-4100 to arrange for card key",
                                    "13": "NULL",
                                    "14": "NULL",
                                    "15": "Q",
                                    "16": "3600",
                                    "17": "NULL",
                                    "18": "NULL",
                                    "19": "NULL",
                                    "20": "NULL",
                                    "21": "NULL",
                                    "22": "NULL",
                                    "23": "200-9",
                                    "24": "40.752903",
                                    "25": "-74.005831",
                                    "26": "2022-06-14",
                                    "27": "124",
                                    "28": "2023-02-28 21:19:41 UTC",
                                    "29": "T",
                                    "30": "NULL",
                                    "31": "NULL",
                                    "32": "2014-05-01",
                                    "33": "NULL",
                                    "34": "MD",
                                    "35": "NULL",
                                    "36": "NULL",
                                    "37": "NULL",
                                    "38": "US",
                                    "39": "NULL",
                                    "40": "NULL",
                                    "41": "NULL",
                                    "42": "Public - Carte-clé en tout temps",
                                    "43": "NULL",
                                    "44": "public",
                                    "45": "KEY_ALWAYS",
                                    "46": "NULL",
                                    "47": "UTILITY",
                                    "48": "1",
                                    "49": "NULL",
                                    "50": "300",
                                    "51": "NULL",
                                    "52": "NULL",
                                    "53": "NULL",
                                    "54": "NULL",
                                    "55": "NULL",
                                    "56": "NULL",
                                    "57": "NULL",
                                    "58": "NULL",
                                    "59": "Q",
                                    "60": "3600",
                                    "61": "MD",
                                    "62": "NULL",
                                    "63": "NULL",
                                    "64": "false",
                                    "65": "NULL",
                                    "66": "NULL",
                                    "67": "NULL",
                                    "68": "NULL",
                                    "69": "NULL",
                                    "70": "NULL",
                                    "71": "NULL"
                                },
                                {
                                    "0": "CNG",
                                    "1": "Con Edison - E 16th St Service Center",
                                    "2": "700 E 16th St",
                                    "3": "In Manhattan, at Avenue C and E 16th. Broadway: Turn east onto 14th Street, then left onto 1st Avenue at 16th Street.",
                                    "4": "New York",
                                    "5": "NY",
                                    "6": "10009",
                                    "7": "NULL",
                                    "8": "212-460-6708",
                                    "9": "E",
                                    "10": "NULL",
                                    "11": "Public - Card key at all times",
                                    "12": "24 hours daily; call 718-204-4048 to arrange for card key",
                                    "13": "NULL",
                                    "14": "NULL",
                                    "15": "Q",
                                    "16": "3600",
                                    "17": "NULL",
                                    "18": "NULL",
                                    "19": "NULL",
                                    "20": "NULL",
                                    "21": "NULL",
                                    "22": "NULL",
                                    "23": "200-8",
                                    "24": "40.729175",
                                    "25": "-73.97331",
                                    "26": "2022-06-14",
                                    "27": "125",
                                    "28": "2023-02-28 21:19:41 UTC",
                                    "29": "T",
                                    "30": "NULL",
                                    "31": "NULL",
                                    "32": "1998-01-15",
                                    "33": "NULL",
                                    "34": "MD",
                                    "35": "NULL",
                                    "36": "NULL",
                                    "37": "NULL",
                                    "38": "US",
                                    "39": "NULL",
                                    "40": "NULL",
                                    "41": "NULL",
                                    "42": "Public - Carte-clé en tout temps",
                                    "43": "NULL",
                                    "44": "public",
                                    "45": "KEY_ALWAYS",
                                    "46": "NULL",
                                    "47": "UTILITY",
                                    "48": "1",
                                    "49": "NULL",
                                    "50": "300",
                                    "51": "NULL",
                                    "52": "NULL",
                                    "53": "NULL",
                                    "54": "NULL",
                                    "55": "NULL",
                                    "56": "NULL",
                                    "57": "NULL",
                                    "58": "NULL",
                                    "59": "Q",
                                    "60": "3600",
                                    "61": "MD",
                                    "62": "NULL",
                                    "63": "NULL",
                                    "64": "false",
                                    "65": "NULL",
                                    "66": "NULL",
                                    "67": "NULL",
                                    "68": "NULL",
                                    "69": "NULL",
                                    "70": "NULL",
                                    "71": "NULL"
                                }
                            ]
                        },
                        "text/html": [
                            "<table>",
                            "<tr><th>Fuel_Type_Code</th><th>Station_Name</th><th>Street_Address</th><th>Intersection_Directions</th><th>City</th><th>State</th><th>ZIP</th><th>Plus4</th><th>Station_Phone</th><th>Status_Code</th><th>Expected_Date</th><th>Groups_With_Access_Code</th><th>Access_Days_Time</th><th>Cards_Accepted</th><th>BD_Blends</th><th>NG_Fill_Type_Code</th><th>NG_PSI</th><th>EV_Level1_EVSE_Num</th><th>EV_Level2_EVSE_Num</th><th>EV_DC_Fast_Count</th><th>EV_Other_Info</th><th>EV_Network</th><th>EV_Network_Web</th><th>Geocode_Status</th><th>Latitude</th><th>Longitude</th><th>Date_Last_Confirmed</th><th>ID</th><th>Updated_At</th><th>Owner_Type_Code</th><th>Federal_Agency_ID</th><th>Federal_Agency_Name</th><th>Open_Date</th><th>Hydrogen_Status_Link</th><th>NG_Vehicle_Class</th><th>LPG_Primary</th><th>E85_Blender_Pump</th><th>EV_Connector_Types</th><th>Country</th><th>Intersection_Directions_French</th><th>Access_Days_Time_French</th><th>BD_Blends_French</th><th>Groups_With_Access_Code_French</th><th>Hydrogen_Is_Retail</th><th>Access_Code</th><th>Access_Detail_Code</th><th>Federal_Agency_Code</th><th>Facility_Type</th><th>CNG_Dispenser_Num</th><th>CNG_On_Site_Renewable_Source</th><th>CNG_Total_Compression_Capacity</th><th>CNG_Storage_Capacity</th><th>LNG_On_Site_Renewable_Source</th><th>E85_Other_Ethanol_Blends</th><th>EV_Pricing</th><th>EV_Pricing_French</th><th>LPG_Nozzle_Types</th><th>Hydrogen_Pressures</th><th>Hydrogen_Standards</th><th>CNG_Fill_Type_Code</th><th>CNG_PSI</th><th>CNG_Vehicle_Class</th><th>LNG_Vehicle_Class</th><th>EV_On_Site_Renewable_Source</th><th>Restricted_Access</th><th>RD_Blends</th><th>RD_Blends_French</th><th>RD_Blended_with_Biodiesel</th><th>RD_Maximum_Biodiesel_Level</th><th>NPS_Unit_Name</th><th>CNG_Station_Sells_Renewable_Natural_Gas</th><th>LNG_Station_Sells_Renewable_Natural_Gas</th></tr>",
                            "<tr><td>CNG</td><td>Spire - Montgomery Operations Center</td><td>2951 Chestnut St</td><td>NULL</td><td>Montgomery</td><td>AL</td><td>36107</td><td>NULL</td><td>NULL</td><td>E</td><td>NULL</td><td>Private</td><td>NULL</td><td>NULL</td><td>NULL</td><td>B</td><td>3600</td><td>NULL</td><td>NULL</td><td>NULL</td><td>NULL</td><td>NULL</td><td>NULL</td><td>200-9</td><td>32.367916</td><td>-86.267021</td><td>2023-04-06</td><td>17</td><td>2023-04-06 17:17:01 UTC</td><td>T</td><td>NULL</td><td>NULL</td><td>2010-12-01</td><td>NULL</td><td>MD</td><td>NULL</td><td>NULL</td><td>NULL</td><td>US</td><td>NULL</td><td>NULL</td><td>NULL</td><td>Privé</td><td>NULL</td><td>private</td><td>NULL</td><td>NULL</td><td>STANDALONE_STATION</td><td>NULL</td><td>NULL</td><td>NULL</td><td>NULL</td><td>NULL</td><td>NULL</td><td>NULL</td><td>NULL</td><td>NULL</td><td>NULL</td><td>NULL</td><td>B</td><td>3600</td><td>MD</td><td>NULL</td><td>NULL</td><td>NULL</td><td>NULL</td><td>NULL</td><td>NULL</td><td>NULL</td><td>NULL</td><td>false</td><td>NULL</td></tr>",
                            "<tr><td>CNG</td><td>Metropolitan Atlanta Rapid Transit Authority</td><td>2424 Piedmont Rd NE</td><td>NULL</td><td>Atlanta</td><td>GA</td><td>30324</td><td>NULL</td><td>NULL</td><td>E</td><td>NULL</td><td>Private - Government only</td><td>NULL</td><td>NULL</td><td>NULL</td><td>Q</td><td>3000</td><td>NULL</td><td>NULL</td><td>NULL</td><td>NULL</td><td>NULL</td><td>NULL</td><td>200-8</td><td>33.821911</td><td>-84.367461</td><td>2023-01-10</td><td>45</td><td>2023-02-14 15:54:11 UTC</td><td>LG</td><td>NULL</td><td>NULL</td><td>1996-12-15</td><td>NULL</td><td>LD</td><td>NULL</td><td>NULL</td><td>NULL</td><td>US</td><td>NULL</td><td>NULL</td><td>NULL</td><td>Privé - Réservé au gouvernement</td><td>NULL</td><td>private</td><td>GOVERNMENT</td><td>NULL</td><td>FLEET_GARAGE</td><td>NULL</td><td>NULL</td><td>30</td><td>NULL</td><td>NULL</td><td>NULL</td><td>NULL</td><td>NULL</td><td>NULL</td><td>NULL</td><td>NULL</td><td>Q</td><td>3000</td><td>LD</td><td>NULL</td><td>NULL</td><td>NULL</td><td>NULL</td><td>NULL</td><td>NULL</td><td>NULL</td><td>NULL</td><td>NULL</td><td>NULL</td></tr>",
                            "<tr><td>CNG</td><td>United Parcel Service</td><td>270 Marvin Miller Dr</td><td>NULL</td><td>Atlanta</td><td>GA</td><td>30336</td><td>NULL</td><td>NULL</td><td>E</td><td>NULL</td><td>Private</td><td>NULL</td><td>NULL</td><td>NULL</td><td>B</td><td>3600</td><td>NULL</td><td>NULL</td><td>NULL</td><td>NULL</td><td>NULL</td><td>NULL</td><td>200-9</td><td>33.760256</td><td>-84.543822</td><td>2022-06-14</td><td>64</td><td>2023-02-14 15:54:11 UTC</td><td>P</td><td>NULL</td><td>NULL</td><td>1997-01-01</td><td>NULL</td><td>HD</td><td>NULL</td><td>NULL</td><td>NULL</td><td>US</td><td>NULL</td><td>NULL</td><td>NULL</td><td>Privé</td><td>NULL</td><td>private</td><td>NULL</td><td>NULL</td><td>STANDALONE_STATION</td><td>NULL</td><td>NULL</td><td>NULL</td><td>NULL</td><td>NULL</td><td>NULL</td><td>NULL</td><td>NULL</td><td>NULL</td><td>NULL</td><td>NULL</td><td>B</td><td>3600</td><td>HD</td><td>NULL</td><td>NULL</td><td>NULL</td><td>NULL</td><td>NULL</td><td>NULL</td><td>NULL</td><td>NULL</td><td>NULL</td><td>NULL</td></tr>",
                            "<tr><td>CNG</td><td>Arkansas Oklahoma Gas Corp</td><td>2100 S Waldron Rd</td><td>NULL</td><td>Fort Smith</td><td>AR</td><td>72903</td><td>NULL</td><td>479-783-3181</td><td>E</td><td>NULL</td><td>Public - Credit card at all times</td><td>24 hours daily</td><td>FuelMan M V Wright_Exp</td><td>NULL</td><td>Q</td><td>3600</td><td>NULL</td><td>NULL</td><td>NULL</td><td>NULL</td><td>NULL</td><td>NULL</td><td>200-9</td><td>35.362213</td><td>-94.375338</td><td>2023-02-13</td><td>73</td><td>2023-02-14 15:54:11 UTC</td><td>T</td><td>NULL</td><td>NULL</td><td>1997-01-01</td><td>NULL</td><td>MD</td><td>NULL</td><td>NULL</td><td>NULL</td><td>US</td><td>NULL</td><td>NULL</td><td>NULL</td><td>Public - Carte de crédit en tout temps</td><td>NULL</td><td>public</td><td>CREDIT_CARD_ALWAYS</td><td>NULL</td><td>UTILITY</td><td>1</td><td>NULL</td><td>250</td><td>57855</td><td>NULL</td><td>NULL</td><td>NULL</td><td>NULL</td><td>NULL</td><td>NULL</td><td>NULL</td><td>Q</td><td>3600</td><td>MD</td><td>NULL</td><td>NULL</td><td>false</td><td>NULL</td><td>NULL</td><td>NULL</td><td>NULL</td><td>NULL</td><td>false</td><td>NULL</td></tr>",
                            "<tr><td>CNG</td><td>Clean Energy - Logan International Airport</td><td>1000 Cottage St Ext</td><td>From Route 1, take the first exit after Callahan Tunnel. Located near the Massachusetts State Police Troop F building on Service Rd.</td><td>East Boston</td><td>MA</td><td>02128</td><td>NULL</td><td>866-809-4869</td><td>E</td><td>NULL</td><td>Public - Credit card at all times</td><td>24 hours daily; call 866-809-4869 for Clean Energy card</td><td>A CleanEnergy Comdata D FuelMan M V Voyager Wright_Exp</td><td>NULL</td><td>Q</td><td>3000 3600</td><td>NULL</td><td>NULL</td><td>NULL</td><td>NULL</td><td>NULL</td><td>NULL</td><td>GPS</td><td>42.37470554648246</td><td>-71.02654860574343</td><td>2022-12-13</td><td>81</td><td>2023-02-14 15:54:11 UTC</td><td>SG</td><td>NULL</td><td>NULL</td><td>1996-11-15</td><td>NULL</td><td>MD</td><td>NULL</td><td>NULL</td><td>NULL</td><td>US</td><td>NULL</td><td>NULL</td><td>NULL</td><td>Public - Carte de crédit en tout temps</td><td>NULL</td><td>public</td><td>CREDIT_CARD_ALWAYS</td><td>NULL</td><td>AIRPORT</td><td>4</td><td>NONE</td><td>850</td><td>NULL</td><td>NULL</td><td>NULL</td><td>NULL</td><td>NULL</td><td>NULL</td><td>NULL</td><td>NULL</td><td>Q</td><td>3000 3600</td><td>MD</td><td>NULL</td><td>NULL</td><td>false</td><td>NULL</td><td>NULL</td><td>NULL</td><td>NULL</td><td>NULL</td><td>true</td><td>NULL</td></tr>",
                            "<tr><td>CNG</td><td>Clean Energy - Everett - National Grid</td><td>16 Rover St</td><td>Rt 16, exit to Rt 99, to Dexter St to Rover. Or Rt 99 to Robin St, to Rover St</td><td>Everett</td><td>MA</td><td>02149</td><td>NULL</td><td>866-809-4869</td><td>E</td><td>NULL</td><td>Public - Credit card at all times</td><td>24 hours daily; call 866-809-4869 for Clean Energy card</td><td>CleanEnergy D FleetOne FuelMan M V Voyager Wright_Exp</td><td>NULL</td><td>Q</td><td>3000 3600</td><td>NULL</td><td>NULL</td><td>NULL</td><td>NULL</td><td>NULL</td><td>NULL</td><td>200-8</td><td>42.393167</td><td>-71.064352</td><td>2022-12-13</td><td>84</td><td>2023-02-14 15:54:11 UTC</td><td>T</td><td>NULL</td><td>NULL</td><td>1996-11-15</td><td>NULL</td><td>HD</td><td>NULL</td><td>NULL</td><td>NULL</td><td>US</td><td>NULL</td><td>NULL</td><td>NULL</td><td>Public - Carte de crédit en tout temps</td><td>NULL</td><td>public</td><td>CREDIT_CARD_ALWAYS</td><td>NULL</td><td>STANDALONE_STATION</td><td>1</td><td>NULL</td><td>425</td><td>NULL</td><td>NULL</td><td>NULL</td><td>NULL</td><td>NULL</td><td>NULL</td><td>NULL</td><td>NULL</td><td>Q</td><td>3000 3600</td><td>HD</td><td>NULL</td><td>NULL</td><td>false</td><td>NULL</td><td>NULL</td><td>NULL</td><td>NULL</td><td>NULL</td><td>false</td><td>NULL</td></tr>",
                            "<tr><td>CNG</td><td>Clean Energy - Greenpoint - National Grid</td><td>287 Maspeth Ave</td><td>I-278/Brooklyn Queens Expy, exit onto Vandervoort Ave S, left onto Maspeth Ave, and the station is on the left</td><td>Brooklyn</td><td>NY</td><td>11211</td><td>NULL</td><td>866-809-4869</td><td>E</td><td>NULL</td><td>Public - Credit card at all times</td><td>24 hours daily; call 866-809-4869 for Clean Energy card</td><td>CleanEnergy D FuelMan M V Voyager Wright_Exp</td><td>NULL</td><td>Q</td><td>3000 3600</td><td>NULL</td><td>NULL</td><td>NULL</td><td>NULL</td><td>NULL</td><td>NULL</td><td>200-8</td><td>40.718037</td><td>-73.932309</td><td>2022-12-13</td><td>108</td><td>2023-02-14 15:54:11 UTC</td><td>T</td><td>NULL</td><td>NULL</td><td>2016-07-15</td><td>NULL</td><td>HD</td><td>NULL</td><td>NULL</td><td>NULL</td><td>US</td><td>NULL</td><td>NULL</td><td>NULL</td><td>Public - Carte de crédit en tout temps</td><td>NULL</td><td>public</td><td>CREDIT_CARD_ALWAYS</td><td>NULL</td><td>UTILITY</td><td>1</td><td>NULL</td><td>1200</td><td>NULL</td><td>NULL</td><td>NULL</td><td>NULL</td><td>NULL</td><td>NULL</td><td>NULL</td><td>NULL</td><td>Q</td><td>3000 3600</td><td>HD</td><td>NULL</td><td>NULL</td><td>false</td><td>NULL</td><td>NULL</td><td>NULL</td><td>NULL</td><td>NULL</td><td>false</td><td>NULL</td></tr>",
                            "<tr><td>CNG</td><td>Canarsie - National Grid</td><td>8424 Ditmas Ave</td><td>From Shore Pkwy, take Rockaway Pkwy N, left onto Ditmas Ave, and station is on the left</td><td>Brooklyn</td><td>NY</td><td>11236</td><td>NULL</td><td>866-809-4869</td><td>E</td><td>NULL</td><td>Public - Credit card at all times</td><td>24 hours daily; call 866-809-4869 for Clean Energy card; Also accepts OGS</td><td>CleanEnergy D FleetOne FuelMan M Proprietor V Voyager Wright_Exp</td><td>NULL</td><td>B</td><td>3000 3600</td><td>NULL</td><td>NULL</td><td>NULL</td><td>NULL</td><td>NULL</td><td>NULL</td><td>200-8</td><td>40.64554</td><td>-73.918344</td><td>2022-12-13</td><td>112</td><td>2023-02-14 15:54:11 UTC</td><td>T</td><td>NULL</td><td>NULL</td><td>1988-01-15</td><td>NULL</td><td>MD</td><td>NULL</td><td>NULL</td><td>NULL</td><td>US</td><td>NULL</td><td>NULL</td><td>NULL</td><td>Public - Carte de crédit en tout temps</td><td>NULL</td><td>public</td><td>CREDIT_CARD_ALWAYS</td><td>NULL</td><td>UTILITY</td><td>1</td><td>NULL</td><td>525</td><td>NULL</td><td>NULL</td><td>NULL</td><td>NULL</td><td>NULL</td><td>NULL</td><td>NULL</td><td>NULL</td><td>B</td><td>3000 3600</td><td>MD</td><td>NULL</td><td>NULL</td><td>false</td><td>NULL</td><td>NULL</td><td>NULL</td><td>NULL</td><td>NULL</td><td>false</td><td>NULL</td></tr>",
                            "<tr><td>CNG</td><td>Con Edison - W 29th St Service Center</td><td>281 11th Ave</td><td>In Manhattan, W 29th Street and 12th Avenue.</td><td>New York</td><td>NY</td><td>10001</td><td>NULL</td><td>212-643-3054</td><td>E</td><td>NULL</td><td>Public - Card key at all times</td><td>24 hours daily; call 718-204-4100 to arrange for card key</td><td>NULL</td><td>NULL</td><td>Q</td><td>3600</td><td>NULL</td><td>NULL</td><td>NULL</td><td>NULL</td><td>NULL</td><td>NULL</td><td>200-9</td><td>40.752903</td><td>-74.005831</td><td>2022-06-14</td><td>124</td><td>2023-02-28 21:19:41 UTC</td><td>T</td><td>NULL</td><td>NULL</td><td>2014-05-01</td><td>NULL</td><td>MD</td><td>NULL</td><td>NULL</td><td>NULL</td><td>US</td><td>NULL</td><td>NULL</td><td>NULL</td><td>Public - Carte-clé en tout temps</td><td>NULL</td><td>public</td><td>KEY_ALWAYS</td><td>NULL</td><td>UTILITY</td><td>1</td><td>NULL</td><td>300</td><td>NULL</td><td>NULL</td><td>NULL</td><td>NULL</td><td>NULL</td><td>NULL</td><td>NULL</td><td>NULL</td><td>Q</td><td>3600</td><td>MD</td><td>NULL</td><td>NULL</td><td>false</td><td>NULL</td><td>NULL</td><td>NULL</td><td>NULL</td><td>NULL</td><td>NULL</td><td>NULL</td></tr>",
                            "<tr><td>CNG</td><td>Con Edison - E 16th St Service Center</td><td>700 E 16th St</td><td>In Manhattan, at Avenue C and E 16th. Broadway: Turn east onto 14th Street, then left onto 1st Avenue at 16th Street.</td><td>New York</td><td>NY</td><td>10009</td><td>NULL</td><td>212-460-6708</td><td>E</td><td>NULL</td><td>Public - Card key at all times</td><td>24 hours daily; call 718-204-4048 to arrange for card key</td><td>NULL</td><td>NULL</td><td>Q</td><td>3600</td><td>NULL</td><td>NULL</td><td>NULL</td><td>NULL</td><td>NULL</td><td>NULL</td><td>200-8</td><td>40.729175</td><td>-73.97331</td><td>2022-06-14</td><td>125</td><td>2023-02-28 21:19:41 UTC</td><td>T</td><td>NULL</td><td>NULL</td><td>1998-01-15</td><td>NULL</td><td>MD</td><td>NULL</td><td>NULL</td><td>NULL</td><td>US</td><td>NULL</td><td>NULL</td><td>NULL</td><td>Public - Carte-clé en tout temps</td><td>NULL</td><td>public</td><td>KEY_ALWAYS</td><td>NULL</td><td>UTILITY</td><td>1</td><td>NULL</td><td>300</td><td>NULL</td><td>NULL</td><td>NULL</td><td>NULL</td><td>NULL</td><td>NULL</td><td>NULL</td><td>NULL</td><td>Q</td><td>3600</td><td>MD</td><td>NULL</td><td>NULL</td><td>false</td><td>NULL</td><td>NULL</td><td>NULL</td><td>NULL</td><td>NULL</td><td>NULL</td><td>NULL</td></tr>",
                            "</table>"
                        ]
                    }
                }
            ],
            "execution_count": 7
        },
        {
            "cell_type": "code",
            "source": [
                "--Make a new table containing only the desired columns \n",
                "--about station type, location, and access using DISTINCT to not include duplicates\n",
                "DROP Table if exists dbo.alt_fuel_stations_clean\n",
                "SELECT DISTINCT ID, Fuel_type_code, Station_Name, City, State, ZIP, Country, \n",
                "    Status_Code, Access_Code, Facility_Type \n",
                "    INTO dbo.alt_fuel_stations_clean FROM dbo.alt_fuel_stations\n",
                "    WHERE Status_Code is not NULL and Access_Code is not NULL"
            ],
            "metadata": {
                "language": "sql",
                "azdata_cell_guid": "3c5684b6-2e85-447a-9422-b3741e99c991",
                "tags": []
            },
            "outputs": [
                {
                    "output_type": "display_data",
                    "data": {
                        "text/html": "(71187 rows affected)"
                    },
                    "metadata": {}
                },
                {
                    "output_type": "display_data",
                    "data": {
                        "text/html": "Total execution time: 00:00:00.400"
                    },
                    "metadata": {}
                }
            ],
            "execution_count": 8
        },
        {
            "cell_type": "code",
            "source": [
                "--Checking for null values in State, ZIP, Latitude, and Longitude fields since I am interested in the geographic distribution of fueling stations\n",
                "SELECT City, State, ZIP, Country from dbo.alt_fuel_stations_clean\n",
                "    WHERE State is NULL or ZIP is NULL or Country is NULL\n",
                "    ORDER BY ID"
            ],
            "metadata": {
                "language": "sql",
                "azdata_cell_guid": "66cc92a8-8789-4fd6-856a-427dd58ad76b"
            },
            "outputs": [
                {
                    "output_type": "display_data",
                    "data": {
                        "text/html": "(31 rows affected)"
                    },
                    "metadata": {}
                },
                {
                    "output_type": "display_data",
                    "data": {
                        "text/html": "Total execution time: 00:00:00.039"
                    },
                    "metadata": {}
                },
                {
                    "output_type": "execute_result",
                    "metadata": {},
                    "execution_count": 11,
                    "data": {
                        "application/vnd.dataresource+json": {
                            "schema": {
                                "fields": [
                                    {
                                        "name": "City"
                                    },
                                    {
                                        "name": "State"
                                    },
                                    {
                                        "name": "ZIP"
                                    },
                                    {
                                        "name": "Country"
                                    }
                                ]
                            },
                            "data": [
                                {
                                    "0": "Long Beach",
                                    "1": "NULL",
                                    "2": "90808",
                                    "3": "US"
                                },
                                {
                                    "0": "Phoenix",
                                    "1": "NULL",
                                    "2": "85015",
                                    "3": "US"
                                },
                                {
                                    "0": "Goodyear",
                                    "1": "NULL",
                                    "2": "85395",
                                    "3": "US"
                                },
                                {
                                    "0": "Orlando",
                                    "1": "NULL",
                                    "2": "32817",
                                    "3": "US"
                                },
                                {
                                    "0": "Santa Monica",
                                    "1": "NULL",
                                    "2": "90403",
                                    "3": "US"
                                },
                                {
                                    "0": "Portland",
                                    "1": "NULL",
                                    "2": "97225",
                                    "3": "US"
                                },
                                {
                                    "0": "Merced",
                                    "1": "NULL",
                                    "2": "95343",
                                    "3": "US"
                                },
                                {
                                    "0": "Northfield",
                                    "1": "NULL",
                                    "2": "60093",
                                    "3": "US"
                                },
                                {
                                    "0": "Austin",
                                    "1": "NULL",
                                    "2": "78758",
                                    "3": "US"
                                },
                                {
                                    "0": "Frisco",
                                    "1": "NULL",
                                    "2": "75035",
                                    "3": "US"
                                },
                                {
                                    "0": "Pawleys Island",
                                    "1": "NULL",
                                    "2": "29585",
                                    "3": "US"
                                },
                                {
                                    "0": "Indianapolis",
                                    "1": "NULL",
                                    "2": "46227",
                                    "3": "US"
                                },
                                {
                                    "0": "Dalseong-gun, Daegu",
                                    "1": "NULL",
                                    "2": "43023",
                                    "3": "US"
                                },
                                {
                                    "0": "San Jose",
                                    "1": "NULL",
                                    "2": "95126",
                                    "3": "US"
                                },
                                {
                                    "0": "Scottsdale",
                                    "1": "NULL",
                                    "2": "85258",
                                    "3": "US"
                                },
                                {
                                    "0": "Boulder",
                                    "1": "NULL",
                                    "2": "80301",
                                    "3": "US"
                                },
                                {
                                    "0": "Frisco",
                                    "1": "NULL",
                                    "2": "75033",
                                    "3": "US"
                                },
                                {
                                    "0": "Phoenix",
                                    "1": "NULL",
                                    "2": "85004",
                                    "3": "US"
                                },
                                {
                                    "0": "Charlotte",
                                    "1": "NULL",
                                    "2": "28211",
                                    "3": "US"
                                },
                                {
                                    "0": "Cave Creek",
                                    "1": "NULL",
                                    "2": "85331",
                                    "3": "US"
                                },
                                {
                                    "0": "Yakima",
                                    "1": "NULL",
                                    "2": "98901",
                                    "3": "US"
                                },
                                {
                                    "0": "Arlington",
                                    "1": "NULL",
                                    "2": "76018",
                                    "3": "US"
                                },
                                {
                                    "0": "Bethlehem",
                                    "1": "NULL",
                                    "2": "18017",
                                    "3": "US"
                                },
                                {
                                    "0": "Miramar Beach",
                                    "1": "NULL",
                                    "2": "32550",
                                    "3": "US"
                                },
                                {
                                    "0": "Springfield",
                                    "1": "NULL",
                                    "2": "65807",
                                    "3": "US"
                                },
                                {
                                    "0": "Port Charlotte",
                                    "1": "NULL",
                                    "2": "33954",
                                    "3": "US"
                                },
                                {
                                    "0": "Bedford",
                                    "1": "NULL",
                                    "2": "44146",
                                    "3": "US"
                                },
                                {
                                    "0": "Tucson",
                                    "1": "NULL",
                                    "2": "85750",
                                    "3": "US"
                                },
                                {
                                    "0": "Cresco",
                                    "1": "NULL",
                                    "2": "52136",
                                    "3": "US"
                                },
                                {
                                    "0": "Key Biscayne",
                                    "1": "NULL",
                                    "2": "33149",
                                    "3": "US"
                                },
                                {
                                    "0": "Hackensack",
                                    "1": "NULL",
                                    "2": "7601",
                                    "3": "US"
                                }
                            ]
                        },
                        "text/html": [
                            "<table>",
                            "<tr><th>City</th><th>State</th><th>ZIP</th><th>Country</th></tr>",
                            "<tr><td>Long Beach</td><td>NULL</td><td>90808</td><td>US</td></tr>",
                            "<tr><td>Phoenix</td><td>NULL</td><td>85015</td><td>US</td></tr>",
                            "<tr><td>Goodyear</td><td>NULL</td><td>85395</td><td>US</td></tr>",
                            "<tr><td>Orlando</td><td>NULL</td><td>32817</td><td>US</td></tr>",
                            "<tr><td>Santa Monica</td><td>NULL</td><td>90403</td><td>US</td></tr>",
                            "<tr><td>Portland</td><td>NULL</td><td>97225</td><td>US</td></tr>",
                            "<tr><td>Merced</td><td>NULL</td><td>95343</td><td>US</td></tr>",
                            "<tr><td>Northfield</td><td>NULL</td><td>60093</td><td>US</td></tr>",
                            "<tr><td>Austin</td><td>NULL</td><td>78758</td><td>US</td></tr>",
                            "<tr><td>Frisco</td><td>NULL</td><td>75035</td><td>US</td></tr>",
                            "<tr><td>Pawleys Island</td><td>NULL</td><td>29585</td><td>US</td></tr>",
                            "<tr><td>Indianapolis</td><td>NULL</td><td>46227</td><td>US</td></tr>",
                            "<tr><td>Dalseong-gun, Daegu</td><td>NULL</td><td>43023</td><td>US</td></tr>",
                            "<tr><td>San Jose</td><td>NULL</td><td>95126</td><td>US</td></tr>",
                            "<tr><td>Scottsdale</td><td>NULL</td><td>85258</td><td>US</td></tr>",
                            "<tr><td>Boulder</td><td>NULL</td><td>80301</td><td>US</td></tr>",
                            "<tr><td>Frisco</td><td>NULL</td><td>75033</td><td>US</td></tr>",
                            "<tr><td>Phoenix</td><td>NULL</td><td>85004</td><td>US</td></tr>",
                            "<tr><td>Charlotte</td><td>NULL</td><td>28211</td><td>US</td></tr>",
                            "<tr><td>Cave Creek</td><td>NULL</td><td>85331</td><td>US</td></tr>",
                            "<tr><td>Yakima</td><td>NULL</td><td>98901</td><td>US</td></tr>",
                            "<tr><td>Arlington</td><td>NULL</td><td>76018</td><td>US</td></tr>",
                            "<tr><td>Bethlehem</td><td>NULL</td><td>18017</td><td>US</td></tr>",
                            "<tr><td>Miramar Beach</td><td>NULL</td><td>32550</td><td>US</td></tr>",
                            "<tr><td>Springfield</td><td>NULL</td><td>65807</td><td>US</td></tr>",
                            "<tr><td>Port Charlotte</td><td>NULL</td><td>33954</td><td>US</td></tr>",
                            "<tr><td>Bedford</td><td>NULL</td><td>44146</td><td>US</td></tr>",
                            "<tr><td>Tucson</td><td>NULL</td><td>85750</td><td>US</td></tr>",
                            "<tr><td>Cresco</td><td>NULL</td><td>52136</td><td>US</td></tr>",
                            "<tr><td>Key Biscayne</td><td>NULL</td><td>33149</td><td>US</td></tr>",
                            "<tr><td>Hackensack</td><td>NULL</td><td>7601</td><td>US</td></tr>",
                            "</table>"
                        ]
                    }
                }
            ],
            "execution_count": 11
        },
        {
            "cell_type": "code",
            "source": [
                "--Looks there are no null country or zip code values, but there are null states. \n",
                "--However, I can fill the missing state values in from the zip codes using a table \n",
                "--imported from https://simplemaps.com/data/us-zips\n",
                "\n",
                "UPDATE dbo.alt_fuel_stations_clean\n",
                "SET State = COALESCE(State, \n",
                "    (SELECT state_name FROM dbo.uszips \n",
                "        WHERE dbo.uszips.zip = dbo.alt_fuel_stations_clean.ZIP),'Unknown')\n",
                ""
            ],
            "metadata": {
                "language": "sql",
                "azdata_cell_guid": "46a62327-6236-4b60-a4cc-2f482bee73e9"
            },
            "outputs": [
                {
                    "output_type": "display_data",
                    "data": {
                        "text/html": "(71187 rows affected)"
                    },
                    "metadata": {}
                },
                {
                    "output_type": "display_data",
                    "data": {
                        "text/html": "Total execution time: 00:00:00.148"
                    },
                    "metadata": {}
                }
            ],
            "execution_count": 12
        },
        {
            "cell_type": "code",
            "source": [
                "--Replace null Facility_Type values with \"unknown\"\n",
                "UPDATE dbo.alt_fuel_stations_clean\n",
                "SET Facility_Type = COALESCE(Facility_Type,'unknown')"
            ],
            "metadata": {
                "azdata_cell_guid": "f1af3e59-e490-424e-a85e-787bd064684d",
                "language": "sql"
            },
            "outputs": [
                {
                    "output_type": "display_data",
                    "data": {
                        "text/html": "(71187 rows affected)"
                    },
                    "metadata": {}
                },
                {
                    "output_type": "display_data",
                    "data": {
                        "text/html": "Total execution time: 00:00:00.385"
                    },
                    "metadata": {}
                }
            ],
            "execution_count": 13
        },
        {
            "cell_type": "code",
            "source": [
                "--Make new column with the full name of the status based on the code\n",
                "ALTER TABLE dbo.alt_fuel_stations_clean\n",
                "ADD Status NVARCHAR(255);"
            ],
            "metadata": {
                "azdata_cell_guid": "8f171a0b-5e8d-424c-b56f-801c6713325b",
                "language": "sql"
            },
            "outputs": [
                {
                    "output_type": "display_data",
                    "data": {
                        "text/html": "Commands completed successfully."
                    },
                    "metadata": {}
                },
                {
                    "output_type": "display_data",
                    "data": {
                        "text/html": "Total execution time: 00:00:00.024"
                    },
                    "metadata": {}
                }
            ],
            "execution_count": 14
        },
        {
            "cell_type": "code",
            "source": [
                "--Replace status codes with written out descriptions for increased readability\n",
                "UPDATE dbo.alt_fuel_stations_clean\n",
                "SET Status = \n",
                "    CASE  WHEN Status_Code = 'E' THEN 'Available'\n",
                "          WHEN Status_Code = 'P' THEN 'Planned'\n",
                "          ELSE 'Temporarily Unavailable'\n",
                "          END"
            ],
            "metadata": {
                "language": "sql",
                "azdata_cell_guid": "95b9947f-4d5b-4d0a-ac9b-d89f92f1ef97"
            },
            "outputs": [
                {
                    "output_type": "display_data",
                    "data": {
                        "text/html": "(71187 rows affected)"
                    },
                    "metadata": {}
                },
                {
                    "output_type": "display_data",
                    "data": {
                        "text/html": "Total execution time: 00:00:00.560"
                    },
                    "metadata": {}
                }
            ],
            "execution_count": 15
        },
        {
            "cell_type": "code",
            "source": [
                "--Make new column with the full name of the fuel type\n",
                "ALTER TABLE dbo.alt_fuel_stations_clean\n",
                "ADD Fuel_Type NVARCHAR(255);"
            ],
            "metadata": {
                "azdata_cell_guid": "a79e8d1e-494f-4abf-8346-6c1ea17e066a",
                "language": "sql",
                "tags": []
            },
            "outputs": [
                {
                    "output_type": "display_data",
                    "data": {
                        "text/html": "Commands completed successfully."
                    },
                    "metadata": {}
                },
                {
                    "output_type": "display_data",
                    "data": {
                        "text/html": "Total execution time: 00:00:00.011"
                    },
                    "metadata": {}
                }
            ],
            "execution_count": 16
        },
        {
            "cell_type": "code",
            "source": [
                "--Fill new column with the fuel type description from the dataset documentation\n",
                "UPDATE dbo.alt_fuel_stations_clean\n",
                "SET Fuel_type = CASE WHEN Fuel_type_code = 'BD' THEN 'Biodiesel (B20 and above)'\n",
                "    WHEN Fuel_type_code = 'CNG' THEN 'Compressed Natural Gas'\n",
                "    WHEN Fuel_type_code = 'ELEC' THEN 'Electric'\n",
                "    WHEN Fuel_type_code = 'E85' THEN 'Ethanol (E85)'\n",
                "    WHEN Fuel_type_code = 'HY' THEN 'Hydrogen'\n",
                "    WHEN Fuel_type_code = 'LNG' THEN 'Liquefied Natural Gas'\n",
                "    WHEN Fuel_type_code = 'LPG' THEN 'Propane (LPG)'\n",
                "    WHEN Fuel_type_code = 'RD' THEN 'Renewable Diesel (R20 and above)'\n",
                "    END"
            ],
            "metadata": {
                "azdata_cell_guid": "823e71cd-ae3f-4295-a547-e1ba155af29b",
                "language": "sql",
                "tags": []
            },
            "outputs": [
                {
                    "output_type": "display_data",
                    "data": {
                        "text/html": "(71187 rows affected)"
                    },
                    "metadata": {}
                },
                {
                    "output_type": "display_data",
                    "data": {
                        "text/html": "Total execution time: 00:00:00.570"
                    },
                    "metadata": {}
                }
            ],
            "execution_count": 17
        },
        {
            "cell_type": "code",
            "source": [
                "--Trimming trailing spaces and removing underscores from Facility type, and making lowercase\n",
                "UPDATE dbo.alt_fuel_stations_clean\n",
                "SET Facility_Type = REPLACE(LOWER(TRIM(Facility_Type)), '_', ' ')"
            ],
            "metadata": {
                "azdata_cell_guid": "c13ac0c3-1826-40ec-b340-20d8b4266ecb",
                "language": "sql"
            },
            "outputs": [
                {
                    "output_type": "display_data",
                    "data": {
                        "text/html": "(71187 rows affected)"
                    },
                    "metadata": {}
                },
                {
                    "output_type": "display_data",
                    "data": {
                        "text/html": "Total execution time: 00:00:00.195"
                    },
                    "metadata": {}
                }
            ],
            "execution_count": 18
        },
        {
            "cell_type": "code",
            "source": [
                "--Check to make sure the data look good\n",
                "SELECT * FROM dbo.alt_fuel_stations_clean\n",
                "ORDER BY ID\n",
                "OFFSET 0 ROWS FETCH FIRST 10 ROWS ONLY;"
            ],
            "metadata": {
                "azdata_cell_guid": "d39aee49-c340-447b-a1e2-6af3e7ea2e58",
                "language": "sql"
            },
            "outputs": [
                {
                    "output_type": "display_data",
                    "data": {
                        "text/html": "(10 rows affected)"
                    },
                    "metadata": {}
                },
                {
                    "output_type": "display_data",
                    "data": {
                        "text/html": "Total execution time: 00:00:00.042"
                    },
                    "metadata": {}
                },
                {
                    "output_type": "execute_result",
                    "metadata": {},
                    "execution_count": 19,
                    "data": {
                        "application/vnd.dataresource+json": {
                            "schema": {
                                "fields": [
                                    {
                                        "name": "ID"
                                    },
                                    {
                                        "name": "Fuel_type_code"
                                    },
                                    {
                                        "name": "Station_Name"
                                    },
                                    {
                                        "name": "City"
                                    },
                                    {
                                        "name": "State"
                                    },
                                    {
                                        "name": "ZIP"
                                    },
                                    {
                                        "name": "Country"
                                    },
                                    {
                                        "name": "Status_Code"
                                    },
                                    {
                                        "name": "Access_Code"
                                    },
                                    {
                                        "name": "Facility_Type"
                                    },
                                    {
                                        "name": "Status"
                                    },
                                    {
                                        "name": "Fuel_Type"
                                    }
                                ]
                            },
                            "data": [
                                {
                                    "0": "17",
                                    "1": "CNG",
                                    "2": "Spire - Montgomery Operations Center",
                                    "3": "Montgomery",
                                    "4": "AL",
                                    "5": "36107",
                                    "6": "US",
                                    "7": "E",
                                    "8": "private",
                                    "9": "standalone station",
                                    "10": "Available",
                                    "11": "Compressed Natural Gas"
                                },
                                {
                                    "0": "45",
                                    "1": "CNG",
                                    "2": "Metropolitan Atlanta Rapid Transit Authority",
                                    "3": "Atlanta",
                                    "4": "GA",
                                    "5": "30324",
                                    "6": "US",
                                    "7": "E",
                                    "8": "private",
                                    "9": "fleet garage",
                                    "10": "Available",
                                    "11": "Compressed Natural Gas"
                                },
                                {
                                    "0": "64",
                                    "1": "CNG",
                                    "2": "United Parcel Service",
                                    "3": "Atlanta",
                                    "4": "GA",
                                    "5": "30336",
                                    "6": "US",
                                    "7": "E",
                                    "8": "private",
                                    "9": "standalone station",
                                    "10": "Available",
                                    "11": "Compressed Natural Gas"
                                },
                                {
                                    "0": "73",
                                    "1": "CNG",
                                    "2": "Arkansas Oklahoma Gas Corp",
                                    "3": "Fort Smith",
                                    "4": "AR",
                                    "5": "72903",
                                    "6": "US",
                                    "7": "E",
                                    "8": "public",
                                    "9": "utility",
                                    "10": "Available",
                                    "11": "Compressed Natural Gas"
                                },
                                {
                                    "0": "81",
                                    "1": "CNG",
                                    "2": "Clean Energy - Logan International Airport",
                                    "3": "East Boston",
                                    "4": "MA",
                                    "5": "02128",
                                    "6": "US",
                                    "7": "E",
                                    "8": "public",
                                    "9": "airport",
                                    "10": "Available",
                                    "11": "Compressed Natural Gas"
                                },
                                {
                                    "0": "84",
                                    "1": "CNG",
                                    "2": "Clean Energy - Everett - National Grid",
                                    "3": "Everett",
                                    "4": "MA",
                                    "5": "02149",
                                    "6": "US",
                                    "7": "E",
                                    "8": "public",
                                    "9": "standalone station",
                                    "10": "Available",
                                    "11": "Compressed Natural Gas"
                                },
                                {
                                    "0": "108",
                                    "1": "CNG",
                                    "2": "Clean Energy - Greenpoint - National Grid",
                                    "3": "Brooklyn",
                                    "4": "NY",
                                    "5": "11211",
                                    "6": "US",
                                    "7": "E",
                                    "8": "public",
                                    "9": "utility",
                                    "10": "Available",
                                    "11": "Compressed Natural Gas"
                                },
                                {
                                    "0": "112",
                                    "1": "CNG",
                                    "2": "Canarsie - National Grid",
                                    "3": "Brooklyn",
                                    "4": "NY",
                                    "5": "11236",
                                    "6": "US",
                                    "7": "E",
                                    "8": "public",
                                    "9": "utility",
                                    "10": "Available",
                                    "11": "Compressed Natural Gas"
                                },
                                {
                                    "0": "124",
                                    "1": "CNG",
                                    "2": "Con Edison - W 29th St Service Center",
                                    "3": "New York",
                                    "4": "NY",
                                    "5": "10001",
                                    "6": "US",
                                    "7": "E",
                                    "8": "public",
                                    "9": "utility",
                                    "10": "Available",
                                    "11": "Compressed Natural Gas"
                                },
                                {
                                    "0": "125",
                                    "1": "CNG",
                                    "2": "Con Edison - E 16th St Service Center",
                                    "3": "New York",
                                    "4": "NY",
                                    "5": "10009",
                                    "6": "US",
                                    "7": "E",
                                    "8": "public",
                                    "9": "utility",
                                    "10": "Available",
                                    "11": "Compressed Natural Gas"
                                }
                            ]
                        },
                        "text/html": [
                            "<table>",
                            "<tr><th>ID</th><th>Fuel_type_code</th><th>Station_Name</th><th>City</th><th>State</th><th>ZIP</th><th>Country</th><th>Status_Code</th><th>Access_Code</th><th>Facility_Type</th><th>Status</th><th>Fuel_Type</th></tr>",
                            "<tr><td>17</td><td>CNG</td><td>Spire - Montgomery Operations Center</td><td>Montgomery</td><td>AL</td><td>36107</td><td>US</td><td>E</td><td>private</td><td>standalone station</td><td>Available</td><td>Compressed Natural Gas</td></tr>",
                            "<tr><td>45</td><td>CNG</td><td>Metropolitan Atlanta Rapid Transit Authority</td><td>Atlanta</td><td>GA</td><td>30324</td><td>US</td><td>E</td><td>private</td><td>fleet garage</td><td>Available</td><td>Compressed Natural Gas</td></tr>",
                            "<tr><td>64</td><td>CNG</td><td>United Parcel Service</td><td>Atlanta</td><td>GA</td><td>30336</td><td>US</td><td>E</td><td>private</td><td>standalone station</td><td>Available</td><td>Compressed Natural Gas</td></tr>",
                            "<tr><td>73</td><td>CNG</td><td>Arkansas Oklahoma Gas Corp</td><td>Fort Smith</td><td>AR</td><td>72903</td><td>US</td><td>E</td><td>public</td><td>utility</td><td>Available</td><td>Compressed Natural Gas</td></tr>",
                            "<tr><td>81</td><td>CNG</td><td>Clean Energy - Logan International Airport</td><td>East Boston</td><td>MA</td><td>02128</td><td>US</td><td>E</td><td>public</td><td>airport</td><td>Available</td><td>Compressed Natural Gas</td></tr>",
                            "<tr><td>84</td><td>CNG</td><td>Clean Energy - Everett - National Grid</td><td>Everett</td><td>MA</td><td>02149</td><td>US</td><td>E</td><td>public</td><td>standalone station</td><td>Available</td><td>Compressed Natural Gas</td></tr>",
                            "<tr><td>108</td><td>CNG</td><td>Clean Energy - Greenpoint - National Grid</td><td>Brooklyn</td><td>NY</td><td>11211</td><td>US</td><td>E</td><td>public</td><td>utility</td><td>Available</td><td>Compressed Natural Gas</td></tr>",
                            "<tr><td>112</td><td>CNG</td><td>Canarsie - National Grid</td><td>Brooklyn</td><td>NY</td><td>11236</td><td>US</td><td>E</td><td>public</td><td>utility</td><td>Available</td><td>Compressed Natural Gas</td></tr>",
                            "<tr><td>124</td><td>CNG</td><td>Con Edison - W 29th St Service Center</td><td>New York</td><td>NY</td><td>10001</td><td>US</td><td>E</td><td>public</td><td>utility</td><td>Available</td><td>Compressed Natural Gas</td></tr>",
                            "<tr><td>125</td><td>CNG</td><td>Con Edison - E 16th St Service Center</td><td>New York</td><td>NY</td><td>10009</td><td>US</td><td>E</td><td>public</td><td>utility</td><td>Available</td><td>Compressed Natural Gas</td></tr>",
                            "</table>"
                        ]
                    }
                }
            ],
            "execution_count": 19
        }
    ]
}